{
 "cells": [
  {
   "cell_type": "code",
   "execution_count": 7,
   "id": "a9a4aa1c",
   "metadata": {},
   "outputs": [],
   "source": [
    "import pandas as pd\n",
    "import numpy as np\n",
    "df = pd.read_csv(\"../data/OnlineRetail.csv\", encoding=\"ISO-8859-1\")"
   ]
  },
  {
   "cell_type": "markdown",
   "id": "e439fd90",
   "metadata": {},
   "source": [
    "### Step 1: Check Missing Values\n",
    "We first inspect the dataset for missing values in each column.\n",
    "\n",
    "---"
   ]
  },
  {
   "cell_type": "code",
   "execution_count": 8,
   "id": "62b367d9",
   "metadata": {},
   "outputs": [
    {
     "name": "stdout",
     "output_type": "stream",
     "text": [
      "InvoiceNo           0\n",
      "StockCode           0\n",
      "Description      1454\n",
      "Quantity            0\n",
      "InvoiceDate         0\n",
      "UnitPrice           0\n",
      "CustomerID     135080\n",
      "Country             0\n",
      "dtype: int64\n"
     ]
    }
   ],
   "source": [
    "# Check null values across all columns\n",
    "print(df.isnull().sum())"
   ]
  },
  {
   "cell_type": "markdown",
   "id": "e87bffe8",
   "metadata": {},
   "source": [
    "### Step 2: Inspect Columns with Null Values\n",
    "Take a closer look at rows where CustomerID and Description are missing.\n",
    "\n",
    "---\n"
   ]
  },
  {
   "cell_type": "code",
   "execution_count": 11,
   "id": "426a2dd7",
   "metadata": {},
   "outputs": [
    {
     "name": "stdout",
     "output_type": "stream",
     "text": [
      "     InvoiceNo StockCode                      Description  Quantity  \\\n",
      "622     536414     22139                              NaN        56   \n",
      "1443    536544     21773  DECORATIVE ROSE BATHROOM BOTTLE         1   \n",
      "1444    536544     21774  DECORATIVE CATS BATHROOM BOTTLE         2   \n",
      "1445    536544     21786               POLKADOT RAIN HAT          4   \n",
      "1446    536544     21787            RAIN PONCHO RETROSPOT         2   \n",
      "\n",
      "          InvoiceDate  UnitPrice  CustomerID         Country  \n",
      "622   12/1/2010 11:52       0.00         NaN  United Kingdom  \n",
      "1443  12/1/2010 14:32       2.51         NaN  United Kingdom  \n",
      "1444  12/1/2010 14:32       2.51         NaN  United Kingdom  \n",
      "1445  12/1/2010 14:32       0.85         NaN  United Kingdom  \n",
      "1446  12/1/2010 14:32       1.66         NaN  United Kingdom  \n",
      "\n",
      "     InvoiceNo StockCode Description  Quantity      InvoiceDate  UnitPrice  \\\n",
      "622     536414     22139         NaN        56  12/1/2010 11:52        0.0   \n",
      "1970    536545     21134         NaN         1  12/1/2010 14:32        0.0   \n",
      "1971    536546     22145         NaN         1  12/1/2010 14:33        0.0   \n",
      "1972    536547     37509         NaN         1  12/1/2010 14:33        0.0   \n",
      "1987    536549    85226A         NaN         1  12/1/2010 14:34        0.0   \n",
      "\n",
      "      CustomerID         Country  \n",
      "622          NaN  United Kingdom  \n",
      "1970         NaN  United Kingdom  \n",
      "1971         NaN  United Kingdom  \n",
      "1972         NaN  United Kingdom  \n",
      "1987         NaN  United Kingdom  \n"
     ]
    }
   ],
   "source": [
    "# Inspect nulls in CustomerID\n",
    "print(df[df['CustomerID'].isnull()].head())\n",
    "\n",
    "print(\"\")\n",
    "\n",
    "# Inspect nulls in Description\n",
    "print(df[df['Description'].isnull()].head())"
   ]
  },
  {
   "cell_type": "markdown",
   "id": "93fa18f1",
   "metadata": {},
   "source": [
    "### Step 3: Count Missing Values in Key Columns\n",
    "Get the exact number of missing values in CustomerID and Description.\n",
    "\n",
    "---"
   ]
  },
  {
   "cell_type": "code",
   "execution_count": 12,
   "id": "5bc9df8a",
   "metadata": {},
   "outputs": [
    {
     "name": "stdout",
     "output_type": "stream",
     "text": [
      "Null values in CustomerID: 135080\n",
      "Null values in Description: 1454\n"
     ]
    }
   ],
   "source": [
    "print(\"Null values in CustomerID:\", df['CustomerID'].isnull().sum())\n",
    "print(\"Null values in Description:\", df['Description'].isnull().sum())"
   ]
  },
  {
   "cell_type": "markdown",
   "id": "7663692c",
   "metadata": {},
   "source": [
    "### Step 4: Handle Missing Values\n",
    "We can fill missing values as an alternative strategy (e.g., -1 for CustomerID).  \n",
    "However, in this project we will **drop rows** where essential fields are missing.\n",
    "\n",
    "---"
   ]
  },
  {
   "cell_type": "code",
   "execution_count": 16,
   "id": "2b65778c",
   "metadata": {},
   "outputs": [],
   "source": [
    "# Example: Fill missing CustomerID with -1 (experiment)\n",
    "df['CustomerID'] = df['CustomerID'].fillna(-1)\n",
    "\n",
    "# Final approach: Drop rows where essential values are missing\n",
    "df = df.dropna(subset=['CustomerID', 'Description', 'InvoiceNo'])"
   ]
  },
  {
   "cell_type": "markdown",
   "id": "dfb4e978",
   "metadata": {},
   "source": [
    "### Step 5: Remove Duplicate Rows\n",
    "Check for and remove duplicate transactions.\n",
    "\n",
    "---"
   ]
  },
  {
   "cell_type": "code",
   "execution_count": 17,
   "id": "f4cbff43",
   "metadata": {},
   "outputs": [
    {
     "name": "stdout",
     "output_type": "stream",
     "text": [
      "Duplicates before: 5268\n",
      "Duplicates after: 0\n"
     ]
    }
   ],
   "source": [
    "print(\"Duplicates before:\", df.duplicated().sum())\n",
    "df = df.drop_duplicates()\n",
    "print(\"Duplicates after:\", df.duplicated().sum())"
   ]
  },
  {
   "cell_type": "markdown",
   "id": "8760340d",
   "metadata": {},
   "source": [
    "### Step 6: Fix Datatypes\n",
    "Convert InvoiceDate to datetime and CustomerID to integer type.\n",
    "\n",
    "---"
   ]
  },
  {
   "cell_type": "code",
   "execution_count": 18,
   "id": "210e2d72",
   "metadata": {},
   "outputs": [
    {
     "name": "stdout",
     "output_type": "stream",
     "text": [
      "InvoiceNo              object\n",
      "StockCode              object\n",
      "Description            object\n",
      "Quantity                int64\n",
      "InvoiceDate    datetime64[ns]\n",
      "UnitPrice             float64\n",
      "CustomerID              int64\n",
      "Country                object\n",
      "dtype: object\n"
     ]
    }
   ],
   "source": [
    "df['InvoiceDate'] = pd.to_datetime(df['InvoiceDate'])\n",
    "df['CustomerID'] = df['CustomerID'].astype('int64')\n",
    "print(df.dtypes)"
   ]
  },
  {
   "cell_type": "markdown",
   "id": "dced1857",
   "metadata": {},
   "source": [
    "### Step 7: Create Date Features\n",
    "Extract useful features such as Year, Month, and Weekday from InvoiceDate.\n",
    "\n",
    "---"
   ]
  },
  {
   "cell_type": "code",
   "execution_count": 21,
   "id": "781510e5",
   "metadata": {},
   "outputs": [
    {
     "data": {
      "text/html": [
       "<div>\n",
       "<style scoped>\n",
       "    .dataframe tbody tr th:only-of-type {\n",
       "        vertical-align: middle;\n",
       "    }\n",
       "\n",
       "    .dataframe tbody tr th {\n",
       "        vertical-align: top;\n",
       "    }\n",
       "\n",
       "    .dataframe thead th {\n",
       "        text-align: right;\n",
       "    }\n",
       "</style>\n",
       "<table border=\"1\" class=\"dataframe\">\n",
       "  <thead>\n",
       "    <tr style=\"text-align: right;\">\n",
       "      <th></th>\n",
       "      <th>InvoiceDate</th>\n",
       "      <th>Year</th>\n",
       "      <th>Month</th>\n",
       "      <th>Weekday</th>\n",
       "    </tr>\n",
       "  </thead>\n",
       "  <tbody>\n",
       "    <tr>\n",
       "      <th>0</th>\n",
       "      <td>2010-12-01 08:26:00</td>\n",
       "      <td>2010</td>\n",
       "      <td>12</td>\n",
       "      <td>Wednesday</td>\n",
       "    </tr>\n",
       "    <tr>\n",
       "      <th>1</th>\n",
       "      <td>2010-12-01 08:26:00</td>\n",
       "      <td>2010</td>\n",
       "      <td>12</td>\n",
       "      <td>Wednesday</td>\n",
       "    </tr>\n",
       "    <tr>\n",
       "      <th>2</th>\n",
       "      <td>2010-12-01 08:26:00</td>\n",
       "      <td>2010</td>\n",
       "      <td>12</td>\n",
       "      <td>Wednesday</td>\n",
       "    </tr>\n",
       "    <tr>\n",
       "      <th>3</th>\n",
       "      <td>2010-12-01 08:26:00</td>\n",
       "      <td>2010</td>\n",
       "      <td>12</td>\n",
       "      <td>Wednesday</td>\n",
       "    </tr>\n",
       "    <tr>\n",
       "      <th>4</th>\n",
       "      <td>2010-12-01 08:26:00</td>\n",
       "      <td>2010</td>\n",
       "      <td>12</td>\n",
       "      <td>Wednesday</td>\n",
       "    </tr>\n",
       "  </tbody>\n",
       "</table>\n",
       "</div>"
      ],
      "text/plain": [
       "          InvoiceDate  Year  Month    Weekday\n",
       "0 2010-12-01 08:26:00  2010     12  Wednesday\n",
       "1 2010-12-01 08:26:00  2010     12  Wednesday\n",
       "2 2010-12-01 08:26:00  2010     12  Wednesday\n",
       "3 2010-12-01 08:26:00  2010     12  Wednesday\n",
       "4 2010-12-01 08:26:00  2010     12  Wednesday"
      ]
     },
     "execution_count": 21,
     "metadata": {},
     "output_type": "execute_result"
    }
   ],
   "source": [
    "df['Year'] = df['InvoiceDate'].dt.year\n",
    "df['Month'] = df['InvoiceDate'].dt.month\n",
    "df['Weekday'] = df['InvoiceDate'].dt.day_name()\n",
    "df[['InvoiceDate','Year','Month','Weekday']].head()"
   ]
  },
  {
   "cell_type": "markdown",
   "id": "88e14bd7",
   "metadata": {},
   "source": [
    "### Step 8: Handle Invalid Values\n",
    "Remove rows with negative or zero Quantity/UnitPrice, which usually represent cancellations or errors.\n",
    "\n",
    "---"
   ]
  },
  {
   "cell_type": "code",
   "execution_count": 22,
   "id": "8c6795f4",
   "metadata": {},
   "outputs": [
    {
     "name": "stdout",
     "output_type": "stream",
     "text": [
      "Rows before: 535187\n",
      "Rows after: 524878\n"
     ]
    }
   ],
   "source": [
    "print(\"Rows before:\", len(df))\n",
    "df = df[(df['Quantity'] > 0) & (df['UnitPrice'] > 0)]\n",
    "print(\"Rows after:\", len(df))"
   ]
  },
  {
   "cell_type": "markdown",
   "id": "653fa7d6",
   "metadata": {},
   "source": [
    "### Step 9: Reset Index\n",
    "After cleaning, reset the index for consistency.\n",
    "\n",
    "---"
   ]
  },
  {
   "cell_type": "code",
   "execution_count": 23,
   "id": "711bfdbe",
   "metadata": {},
   "outputs": [
    {
     "data": {
      "text/html": [
       "<div>\n",
       "<style scoped>\n",
       "    .dataframe tbody tr th:only-of-type {\n",
       "        vertical-align: middle;\n",
       "    }\n",
       "\n",
       "    .dataframe tbody tr th {\n",
       "        vertical-align: top;\n",
       "    }\n",
       "\n",
       "    .dataframe thead th {\n",
       "        text-align: right;\n",
       "    }\n",
       "</style>\n",
       "<table border=\"1\" class=\"dataframe\">\n",
       "  <thead>\n",
       "    <tr style=\"text-align: right;\">\n",
       "      <th></th>\n",
       "      <th>InvoiceNo</th>\n",
       "      <th>StockCode</th>\n",
       "      <th>Description</th>\n",
       "      <th>Quantity</th>\n",
       "      <th>InvoiceDate</th>\n",
       "      <th>UnitPrice</th>\n",
       "      <th>CustomerID</th>\n",
       "      <th>Country</th>\n",
       "      <th>Year</th>\n",
       "      <th>Month</th>\n",
       "      <th>Weekday</th>\n",
       "    </tr>\n",
       "  </thead>\n",
       "  <tbody>\n",
       "    <tr>\n",
       "      <th>0</th>\n",
       "      <td>536365</td>\n",
       "      <td>85123A</td>\n",
       "      <td>WHITE HANGING HEART T-LIGHT HOLDER</td>\n",
       "      <td>6</td>\n",
       "      <td>2010-12-01 08:26:00</td>\n",
       "      <td>2.55</td>\n",
       "      <td>17850</td>\n",
       "      <td>United Kingdom</td>\n",
       "      <td>2010</td>\n",
       "      <td>12</td>\n",
       "      <td>Wednesday</td>\n",
       "    </tr>\n",
       "    <tr>\n",
       "      <th>1</th>\n",
       "      <td>536365</td>\n",
       "      <td>71053</td>\n",
       "      <td>WHITE METAL LANTERN</td>\n",
       "      <td>6</td>\n",
       "      <td>2010-12-01 08:26:00</td>\n",
       "      <td>3.39</td>\n",
       "      <td>17850</td>\n",
       "      <td>United Kingdom</td>\n",
       "      <td>2010</td>\n",
       "      <td>12</td>\n",
       "      <td>Wednesday</td>\n",
       "    </tr>\n",
       "    <tr>\n",
       "      <th>2</th>\n",
       "      <td>536365</td>\n",
       "      <td>84406B</td>\n",
       "      <td>CREAM CUPID HEARTS COAT HANGER</td>\n",
       "      <td>8</td>\n",
       "      <td>2010-12-01 08:26:00</td>\n",
       "      <td>2.75</td>\n",
       "      <td>17850</td>\n",
       "      <td>United Kingdom</td>\n",
       "      <td>2010</td>\n",
       "      <td>12</td>\n",
       "      <td>Wednesday</td>\n",
       "    </tr>\n",
       "    <tr>\n",
       "      <th>3</th>\n",
       "      <td>536365</td>\n",
       "      <td>84029G</td>\n",
       "      <td>KNITTED UNION FLAG HOT WATER BOTTLE</td>\n",
       "      <td>6</td>\n",
       "      <td>2010-12-01 08:26:00</td>\n",
       "      <td>3.39</td>\n",
       "      <td>17850</td>\n",
       "      <td>United Kingdom</td>\n",
       "      <td>2010</td>\n",
       "      <td>12</td>\n",
       "      <td>Wednesday</td>\n",
       "    </tr>\n",
       "    <tr>\n",
       "      <th>4</th>\n",
       "      <td>536365</td>\n",
       "      <td>84029E</td>\n",
       "      <td>RED WOOLLY HOTTIE WHITE HEART.</td>\n",
       "      <td>6</td>\n",
       "      <td>2010-12-01 08:26:00</td>\n",
       "      <td>3.39</td>\n",
       "      <td>17850</td>\n",
       "      <td>United Kingdom</td>\n",
       "      <td>2010</td>\n",
       "      <td>12</td>\n",
       "      <td>Wednesday</td>\n",
       "    </tr>\n",
       "  </tbody>\n",
       "</table>\n",
       "</div>"
      ],
      "text/plain": [
       "  InvoiceNo StockCode                          Description  Quantity  \\\n",
       "0    536365    85123A   WHITE HANGING HEART T-LIGHT HOLDER         6   \n",
       "1    536365     71053                  WHITE METAL LANTERN         6   \n",
       "2    536365    84406B       CREAM CUPID HEARTS COAT HANGER         8   \n",
       "3    536365    84029G  KNITTED UNION FLAG HOT WATER BOTTLE         6   \n",
       "4    536365    84029E       RED WOOLLY HOTTIE WHITE HEART.         6   \n",
       "\n",
       "          InvoiceDate  UnitPrice  CustomerID         Country  Year  Month  \\\n",
       "0 2010-12-01 08:26:00       2.55       17850  United Kingdom  2010     12   \n",
       "1 2010-12-01 08:26:00       3.39       17850  United Kingdom  2010     12   \n",
       "2 2010-12-01 08:26:00       2.75       17850  United Kingdom  2010     12   \n",
       "3 2010-12-01 08:26:00       3.39       17850  United Kingdom  2010     12   \n",
       "4 2010-12-01 08:26:00       3.39       17850  United Kingdom  2010     12   \n",
       "\n",
       "     Weekday  \n",
       "0  Wednesday  \n",
       "1  Wednesday  \n",
       "2  Wednesday  \n",
       "3  Wednesday  \n",
       "4  Wednesday  "
      ]
     },
     "execution_count": 23,
     "metadata": {},
     "output_type": "execute_result"
    }
   ],
   "source": [
    "df = df.reset_index(drop=True)\n",
    "df.head()"
   ]
  },
  {
   "cell_type": "markdown",
   "id": "5a895414",
   "metadata": {},
   "source": [
    "### Step 10: Save Cleaned Dataset\n",
    "Save the cleaned dataset to the data folder for further analysis.\n",
    "\n",
    "---"
   ]
  },
  {
   "cell_type": "code",
   "execution_count": 24,
   "id": "5c14e42e",
   "metadata": {},
   "outputs": [],
   "source": [
    "df.to_csv(\"../data/cleaned_data.csv\", index=False)"
   ]
  }
 ],
 "metadata": {
  "kernelspec": {
   "display_name": "Python 3",
   "language": "python",
   "name": "python3"
  },
  "language_info": {
   "codemirror_mode": {
    "name": "ipython",
    "version": 3
   },
   "file_extension": ".py",
   "mimetype": "text/x-python",
   "name": "python",
   "nbconvert_exporter": "python",
   "pygments_lexer": "ipython3",
   "version": "3.11.4"
  }
 },
 "nbformat": 4,
 "nbformat_minor": 5
}
