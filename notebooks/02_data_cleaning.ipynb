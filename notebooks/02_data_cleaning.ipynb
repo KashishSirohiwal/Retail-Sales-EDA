{
 "cells": [
  {
   "cell_type": "code",
   "execution_count": 7,
   "id": "a9a4aa1c",
   "metadata": {},
   "outputs": [],
   "source": [
    "import pandas as pd\n",
    "import numpy as np\n",
    "df = pd.read_csv(\"../data/OnlineRetail.csv\", encoding=\"ISO-8859-1\")"
   ]
  },
  {
   "cell_type": "markdown",
   "id": "e439fd90",
   "metadata": {},
   "source": [
    "### Step 1: Check Missing Values\n",
    "We first inspect the dataset for missing values in each column.\n",
    "\n",
    "---"
   ]
  },
  {
   "cell_type": "code",
   "execution_count": 8,
   "id": "62b367d9",
   "metadata": {},
   "outputs": [
    {
     "name": "stdout",
     "output_type": "stream",
     "text": [
      "InvoiceNo           0\n",
      "StockCode           0\n",
      "Description      1454\n",
      "Quantity            0\n",
      "InvoiceDate         0\n",
      "UnitPrice           0\n",
      "CustomerID     135080\n",
      "Country             0\n",
      "dtype: int64\n"
     ]
    }
   ],
   "source": [
    "# Check null values across all columns\n",
    "print(df.isnull().sum())"
   ]
  },
  {
   "cell_type": "markdown",
   "id": "e87bffe8",
   "metadata": {},
   "source": [
    "### Step 2: Inspect Columns with Null Values\n",
    "Take a closer look at rows where CustomerID and Description are missing.\n",
    "\n",
    "---\n"
   ]
  },
  {
   "cell_type": "code",
   "execution_count": 11,
   "id": "426a2dd7",
   "metadata": {},
   "outputs": [
    {
     "name": "stdout",
     "output_type": "stream",
     "text": [
      "     InvoiceNo StockCode                      Description  Quantity  \\\n",
      "622     536414     22139                              NaN        56   \n",
      "1443    536544     21773  DECORATIVE ROSE BATHROOM BOTTLE         1   \n",
      "1444    536544     21774  DECORATIVE CATS BATHROOM BOTTLE         2   \n",
      "1445    536544     21786               POLKADOT RAIN HAT          4   \n",
      "1446    536544     21787            RAIN PONCHO RETROSPOT         2   \n",
      "\n",
      "          InvoiceDate  UnitPrice  CustomerID         Country  \n",
      "622   12/1/2010 11:52       0.00         NaN  United Kingdom  \n",
      "1443  12/1/2010 14:32       2.51         NaN  United Kingdom  \n",
      "1444  12/1/2010 14:32       2.51         NaN  United Kingdom  \n",
      "1445  12/1/2010 14:32       0.85         NaN  United Kingdom  \n",
      "1446  12/1/2010 14:32       1.66         NaN  United Kingdom  \n",
      "\n",
      "     InvoiceNo StockCode Description  Quantity      InvoiceDate  UnitPrice  \\\n",
      "622     536414     22139         NaN        56  12/1/2010 11:52        0.0   \n",
      "1970    536545     21134         NaN         1  12/1/2010 14:32        0.0   \n",
      "1971    536546     22145         NaN         1  12/1/2010 14:33        0.0   \n",
      "1972    536547     37509         NaN         1  12/1/2010 14:33        0.0   \n",
      "1987    536549    85226A         NaN         1  12/1/2010 14:34        0.0   \n",
      "\n",
      "      CustomerID         Country  \n",
      "622          NaN  United Kingdom  \n",
      "1970         NaN  United Kingdom  \n",
      "1971         NaN  United Kingdom  \n",
      "1972         NaN  United Kingdom  \n",
      "1987         NaN  United Kingdom  \n"
     ]
    }
   ],
   "source": [
    "# Inspect nulls in CustomerID\n",
    "print(df[df['CustomerID'].isnull()].head())\n",
    "\n",
    "print(\"\")\n",
    "\n",
    "# Inspect nulls in Description\n",
    "print(df[df['Description'].isnull()].head())"
   ]
  },
  {
   "cell_type": "markdown",
   "id": "93fa18f1",
   "metadata": {},
   "source": [
    "### Step 3: Count Missing Values in Key Columns\n",
    "Get the exact number of missing values in CustomerID and Description.\n",
    "\n",
    "---"
   ]
  },
  {
   "cell_type": "code",
   "execution_count": 12,
   "id": "5bc9df8a",
   "metadata": {},
   "outputs": [
    {
     "name": "stdout",
     "output_type": "stream",
     "text": [
      "Null values in CustomerID: 135080\n",
      "Null values in Description: 1454\n"
     ]
    }
   ],
   "source": [
    "print(\"Null values in CustomerID:\", df['CustomerID'].isnull().sum())\n",
    "print(\"Null values in Description:\", df['Description'].isnull().sum())"
   ]
  },
  {
   "cell_type": "markdown",
   "id": "7663692c",
   "metadata": {},
   "source": [
    "### Step 4: Handle Missing Values\n",
    "We can fill missing values as an alternative strategy (e.g., -1 for CustomerID).  \n",
    "However, in this project we will **drop rows** where essential fields are missing.\n",
    "\n",
    "---"
   ]
  },
  {
   "cell_type": "code",
   "execution_count": 16,
   "id": "2b65778c",
   "metadata": {},
   "outputs": [],
   "source": [
    "# Example: Fill missing CustomerID with -1 (experiment)\n",
    "df['CustomerID'] = df['CustomerID'].fillna(-1)\n",
    "\n",
    "# Final approach: Drop rows where essential values are missing\n",
    "df = df.dropna(subset=['CustomerID', 'Description', 'InvoiceNo'])"
   ]
  },
  {
   "cell_type": "markdown",
   "id": "dfb4e978",
   "metadata": {},
   "source": [
    "### Step 5: Remove Duplicate Rows\n",
    "Check for and remove duplicate transactions.\n",
    "\n",
    "---"
   ]
  },
  {
   "cell_type": "code",
   "execution_count": 17,
   "id": "f4cbff43",
   "metadata": {},
   "outputs": [
    {
     "name": "stdout",
     "output_type": "stream",
     "text": [
      "Duplicates before: 5268\n",
      "Duplicates after: 0\n"
     ]
    }
   ],
   "source": [
    "print(\"Duplicates before:\", df.duplicated().sum())\n",
    "df = df.drop_duplicates()\n",
    "print(\"Duplicates after:\", df.duplicated().sum())"
   ]
  }
 ],
 "metadata": {
  "kernelspec": {
   "display_name": "Python 3",
   "language": "python",
   "name": "python3"
  },
  "language_info": {
   "codemirror_mode": {
    "name": "ipython",
    "version": 3
   },
   "file_extension": ".py",
   "mimetype": "text/x-python",
   "name": "python",
   "nbconvert_exporter": "python",
   "pygments_lexer": "ipython3",
   "version": "3.11.4"
  }
 },
 "nbformat": 4,
 "nbformat_minor": 5
}
